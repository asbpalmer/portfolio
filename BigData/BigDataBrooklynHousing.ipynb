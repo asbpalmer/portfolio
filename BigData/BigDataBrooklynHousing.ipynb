{
 "cells": [
  {
   "cell_type": "markdown",
   "id": "cede95a8",
   "metadata": {},
   "source": [
    "# CSE 4510 Activity 1 - Pandas EDA\n",
    "**Name: Autumn Monsees** | Due: Sunday, Sept 18, 2022"
   ]
  },
  {
   "cell_type": "markdown",
   "id": "f8328f5f",
   "metadata": {},
   "source": [
    "### Preamble\n",
    "\n",
    "Import pandas"
   ]
  },
  {
   "cell_type": "code",
   "execution_count": 1,
   "id": "5674f793",
   "metadata": {},
   "outputs": [],
   "source": [
    "import pandas as pd"
   ]
  },
  {
   "cell_type": "markdown",
   "id": "12f7a4bf",
   "metadata": {},
   "source": [
    "### Question 1 - Reading the Data\n",
    "\n",
    "a) Load the dataset using pandas"
   ]
  },
  {
   "cell_type": "code",
   "execution_count": 2,
   "id": "71eea0e2",
   "metadata": {},
   "outputs": [],
   "source": [
    "data = pd.DataFrame(pd.read_csv('rollingsales_brooklyn.csv', skiprows=4))"
   ]
  },
  {
   "cell_type": "markdown",
   "id": "60ac5dde",
   "metadata": {},
   "source": [
    "b) Display the shape of the data to make sure it was read"
   ]
  },
  {
   "cell_type": "code",
   "execution_count": 3,
   "id": "0845a493",
   "metadata": {},
   "outputs": [
    {
     "data": {
      "text/plain": [
       "(23373, 21)"
      ]
     },
     "execution_count": 3,
     "metadata": {},
     "output_type": "execute_result"
    }
   ],
   "source": [
    "data.shape"
   ]
  },
  {
   "cell_type": "markdown",
   "id": "6470a307",
   "metadata": {},
   "source": [
    "c) Display the first 2 rows"
   ]
  },
  {
   "cell_type": "code",
   "execution_count": 4,
   "id": "2a83b643",
   "metadata": {},
   "outputs": [
    {
     "data": {
      "text/html": [
       "<div>\n",
       "<style scoped>\n",
       "    .dataframe tbody tr th:only-of-type {\n",
       "        vertical-align: middle;\n",
       "    }\n",
       "\n",
       "    .dataframe tbody tr th {\n",
       "        vertical-align: top;\n",
       "    }\n",
       "\n",
       "    .dataframe thead th {\n",
       "        text-align: right;\n",
       "    }\n",
       "</style>\n",
       "<table border=\"1\" class=\"dataframe\">\n",
       "  <thead>\n",
       "    <tr style=\"text-align: right;\">\n",
       "      <th></th>\n",
       "      <th>BOROUGH</th>\n",
       "      <th>NEIGHBORHOOD</th>\n",
       "      <th>BUILDING CLASS CATEGORY</th>\n",
       "      <th>TAX CLASS AT PRESENT</th>\n",
       "      <th>BLOCK</th>\n",
       "      <th>LOT</th>\n",
       "      <th>EASE-MENT</th>\n",
       "      <th>BUILDING CLASS AT PRESENT</th>\n",
       "      <th>ADDRESS</th>\n",
       "      <th>APART\\nMENT\\nNUMBER</th>\n",
       "      <th>...</th>\n",
       "      <th>RESIDENTIAL UNITS</th>\n",
       "      <th>COMMERCIAL UNITS</th>\n",
       "      <th>TOTAL UNITS</th>\n",
       "      <th>LAND SQUARE FEET</th>\n",
       "      <th>GROSS SQUARE FEET</th>\n",
       "      <th>YEAR BUILT</th>\n",
       "      <th>TAX CLASS AT TIME OF SALE</th>\n",
       "      <th>BUILDING CLASS AT TIME OF SALE</th>\n",
       "      <th>SALE\\nPRICE</th>\n",
       "      <th>SALE DATE</th>\n",
       "    </tr>\n",
       "  </thead>\n",
       "  <tbody>\n",
       "    <tr>\n",
       "      <th>0</th>\n",
       "      <td>3</td>\n",
       "      <td></td>\n",
       "      <td>15  CONDOS - 2-10 UNIT RESIDENTIAL</td>\n",
       "      <td></td>\n",
       "      <td>814</td>\n",
       "      <td>1103</td>\n",
       "      <td></td>\n",
       "      <td></td>\n",
       "      <td>342 53RD    STREET</td>\n",
       "      <td></td>\n",
       "      <td>...</td>\n",
       "      <td>0</td>\n",
       "      <td>0</td>\n",
       "      <td>0</td>\n",
       "      <td>0</td>\n",
       "      <td>0</td>\n",
       "      <td>0</td>\n",
       "      <td>2</td>\n",
       "      <td>R1</td>\n",
       "      <td>$403,572</td>\n",
       "      <td>7/9/13</td>\n",
       "    </tr>\n",
       "    <tr>\n",
       "      <th>1</th>\n",
       "      <td>3</td>\n",
       "      <td></td>\n",
       "      <td>15  CONDOS - 2-10 UNIT RESIDENTIAL</td>\n",
       "      <td></td>\n",
       "      <td>814</td>\n",
       "      <td>1105</td>\n",
       "      <td></td>\n",
       "      <td></td>\n",
       "      <td>342 53RD    STREET</td>\n",
       "      <td></td>\n",
       "      <td>...</td>\n",
       "      <td>0</td>\n",
       "      <td>0</td>\n",
       "      <td>0</td>\n",
       "      <td>0</td>\n",
       "      <td>0</td>\n",
       "      <td>0</td>\n",
       "      <td>2</td>\n",
       "      <td>R1</td>\n",
       "      <td>$218,010</td>\n",
       "      <td>7/12/13</td>\n",
       "    </tr>\n",
       "  </tbody>\n",
       "</table>\n",
       "<p>2 rows × 21 columns</p>\n",
       "</div>"
      ],
      "text/plain": [
       "   BOROUGH               NEIGHBORHOOD  \\\n",
       "0        3                              \n",
       "1        3                              \n",
       "\n",
       "                        BUILDING CLASS CATEGORY TAX CLASS AT PRESENT  BLOCK  \\\n",
       "0  15  CONDOS - 2-10 UNIT RESIDENTIAL                                   814   \n",
       "1  15  CONDOS - 2-10 UNIT RESIDENTIAL                                   814   \n",
       "\n",
       "    LOT EASE-MENT BUILDING CLASS AT PRESENT  \\\n",
       "0  1103                                       \n",
       "1  1105                                       \n",
       "\n",
       "                                       ADDRESS APART\\nMENT\\nNUMBER  ...  \\\n",
       "0   342 53RD    STREET                                              ...   \n",
       "1   342 53RD    STREET                                              ...   \n",
       "\n",
       "   RESIDENTIAL UNITS  COMMERCIAL UNITS  TOTAL UNITS  LAND SQUARE FEET  \\\n",
       "0                  0                 0            0                 0   \n",
       "1                  0                 0            0                 0   \n",
       "\n",
       "  GROSS SQUARE FEET YEAR BUILT  TAX CLASS AT TIME OF SALE  \\\n",
       "0                 0          0                          2   \n",
       "1                 0          0                          2   \n",
       "\n",
       "   BUILDING CLASS AT TIME OF SALE SALE\\nPRICE SALE DATE  \n",
       "0                             R1     $403,572    7/9/13  \n",
       "1                             R1     $218,010   7/12/13  \n",
       "\n",
       "[2 rows x 21 columns]"
      ]
     },
     "execution_count": 4,
     "metadata": {},
     "output_type": "execute_result"
    }
   ],
   "source": [
    "data.head(2)"
   ]
  },
  {
   "cell_type": "markdown",
   "id": "c502d1b5",
   "metadata": {},
   "source": [
    "d) Display row 14 to see the field names clearly"
   ]
  },
  {
   "cell_type": "code",
   "execution_count": 5,
   "id": "ed563957",
   "metadata": {},
   "outputs": [
    {
     "data": {
      "text/plain": [
       "BOROUGH                                                                      3\n",
       "NEIGHBORHOOD                                         BATH BEACH               \n",
       "BUILDING CLASS CATEGORY                                                       \n",
       "TAX CLASS AT PRESENT                                                         4\n",
       "BLOCK                                                                     6370\n",
       "LOT                                                                       1321\n",
       "EASE-MENT                                                                     \n",
       "BUILDING CLASS AT PRESENT                                                   RP\n",
       "ADDRESS                             98 BAY 20TH   STREET                      \n",
       "APART\\nMENT\\nNUMBER                                               P1          \n",
       "ZIP CODE                                                                 11214\n",
       "RESIDENTIAL UNITS                                                            0\n",
       "COMMERCIAL UNITS                                                             0\n",
       "TOTAL UNITS                                                                  1\n",
       "LAND SQUARE FEET                                                             0\n",
       "GROSS SQUARE FEET                                                            0\n",
       "YEAR BUILT                                                                2011\n",
       "TAX CLASS AT TIME OF SALE                                                    4\n",
       "BUILDING CLASS AT TIME OF SALE                                             RP \n",
       "SALE\\nPRICE                                                                 $0\n",
       "SALE DATE                                                              12/7/12\n",
       "Name: 14, dtype: object"
      ]
     },
     "execution_count": 5,
     "metadata": {},
     "output_type": "execute_result"
    }
   ],
   "source": [
    "data.iloc[14]"
   ]
  },
  {
   "cell_type": "markdown",
   "id": "68b7d5aa",
   "metadata": {},
   "source": [
    "### Question 2 - Reformatting Column Labels"
   ]
  },
  {
   "cell_type": "markdown",
   "id": "584f0a2c",
   "metadata": {},
   "source": [
    "a) Convert the column names to lower case"
   ]
  },
  {
   "cell_type": "code",
   "execution_count": 6,
   "id": "73ea3c6b",
   "metadata": {},
   "outputs": [],
   "source": [
    "data.columns = [c.lower() for c in data.columns]"
   ]
  },
  {
   "cell_type": "markdown",
   "id": "ea7a17b8",
   "metadata": {},
   "source": [
    "b) Replace the '\\n' in the column names with space"
   ]
  },
  {
   "cell_type": "code",
   "execution_count": 7,
   "id": "87e91c43",
   "metadata": {},
   "outputs": [],
   "source": [
    "data.columns = [c.replace('\\n', ' ') for c in data.columns]"
   ]
  },
  {
   "cell_type": "markdown",
   "id": "5f84d90d",
   "metadata": {},
   "source": [
    "c) Replace the spaces in the column names with underscores"
   ]
  },
  {
   "cell_type": "code",
   "execution_count": 8,
   "id": "0e1d6c7a",
   "metadata": {},
   "outputs": [],
   "source": [
    "data.columns = [c.replace(' ', '_') for c in data.columns]"
   ]
  },
  {
   "cell_type": "markdown",
   "id": "5802fd6d",
   "metadata": {},
   "source": [
    "d) Display row 14 again to see the change in the field names"
   ]
  },
  {
   "cell_type": "code",
   "execution_count": 9,
   "id": "733b0785",
   "metadata": {},
   "outputs": [
    {
     "data": {
      "text/plain": [
       "borough                                                                      3\n",
       "neighborhood                                         BATH BEACH               \n",
       "building_class_category                                                       \n",
       "tax_class_at_present                                                         4\n",
       "block                                                                     6370\n",
       "lot                                                                       1321\n",
       "ease-ment                                                                     \n",
       "building_class_at_present                                                   RP\n",
       "address                             98 BAY 20TH   STREET                      \n",
       "apart_ment_number                                                 P1          \n",
       "zip_code                                                                 11214\n",
       "residential_units                                                            0\n",
       "commercial_units                                                             0\n",
       "total_units                                                                  1\n",
       "land_square_feet                                                             0\n",
       "gross_square_feet                                                            0\n",
       "year_built                                                                2011\n",
       "tax_class_at_time_of_sale                                                    4\n",
       "building_class_at_time_of_sale                                             RP \n",
       "sale_price                                                                  $0\n",
       "sale_date                                                              12/7/12\n",
       "Name: 14, dtype: object"
      ]
     },
     "execution_count": 9,
     "metadata": {},
     "output_type": "execute_result"
    }
   ],
   "source": [
    "data.iloc[14]"
   ]
  },
  {
   "cell_type": "markdown",
   "id": "0f0964f9",
   "metadata": {},
   "source": [
    "### Question 3 - Convert the field \"sale_price\" to numeric"
   ]
  },
  {
   "cell_type": "code",
   "execution_count": 10,
   "id": "eab7da38",
   "metadata": {},
   "outputs": [],
   "source": [
    "no_dollar = lambda x: str(x).replace('$', '')\n",
    "no_comma = lambda x: str(x).replace(',', '')\n",
    "price_to_number = lambda x: no_dollar(no_comma(x))"
   ]
  },
  {
   "cell_type": "code",
   "execution_count": 11,
   "id": "d38159ec",
   "metadata": {},
   "outputs": [],
   "source": [
    "data['sale_price'] = pd.to_numeric(data['sale_price'].apply(price_to_number))"
   ]
  },
  {
   "cell_type": "code",
   "execution_count": 12,
   "id": "cdd6d6f7",
   "metadata": {},
   "outputs": [
    {
     "name": "stdout",
     "output_type": "stream",
     "text": [
      "0         403572\n",
      "1         218010\n",
      "2         952311\n",
      "3         842692\n",
      "4         815288\n",
      "          ...   \n",
      "23368          0\n",
      "23369          0\n",
      "23370    1090000\n",
      "23371          0\n",
      "23372          0\n",
      "Name: sale_price, Length: 23373, dtype: int64\n"
     ]
    }
   ],
   "source": [
    "print(data['sale_price'])"
   ]
  },
  {
   "cell_type": "markdown",
   "id": "e2eaf7e4",
   "metadata": {},
   "source": [
    "### Question 4 - Display a count of missing sale prices"
   ]
  },
  {
   "cell_type": "code",
   "execution_count": 13,
   "id": "9cd1eb0d",
   "metadata": {},
   "outputs": [
    {
     "data": {
      "text/plain": [
       "8791"
      ]
     },
     "execution_count": 13,
     "metadata": {},
     "output_type": "execute_result"
    }
   ],
   "source": [
    "data['sale_price'].where(data['sale_price']!=0).isnull().sum()"
   ]
  },
  {
   "cell_type": "markdown",
   "id": "4ab5cd2b",
   "metadata": {},
   "source": [
    "### Question 5 - Convert 'land_square_feet' to numeric"
   ]
  },
  {
   "cell_type": "code",
   "execution_count": 14,
   "id": "368646f8",
   "metadata": {},
   "outputs": [],
   "source": [
    "data['land_square_feet'] = pd.to_numeric(data['land_square_feet'].apply(no_comma))"
   ]
  },
  {
   "cell_type": "markdown",
   "id": "e042cc79",
   "metadata": {},
   "source": [
    "### Question 6 - Convert “gross_square_feet” to numeric, “sale_date” to datetime, “year_built” to numeric (int32), and “zip_code” to string\n"
   ]
  },
  {
   "cell_type": "code",
   "execution_count": 15,
   "id": "b08ecfbd",
   "metadata": {},
   "outputs": [],
   "source": [
    "data['gross_square_feet'] = pd.to_numeric(data['gross_square_feet'].apply(no_comma))"
   ]
  },
  {
   "cell_type": "code",
   "execution_count": 16,
   "id": "38ffc08e",
   "metadata": {},
   "outputs": [],
   "source": [
    "data['sale_date'] = pd.to_datetime(data['sale_date'])"
   ]
  },
  {
   "cell_type": "code",
   "execution_count": 17,
   "id": "1226d9d9",
   "metadata": {},
   "outputs": [],
   "source": [
    "data['year_built'] = data['year_built'].astype('int32')"
   ]
  },
  {
   "cell_type": "code",
   "execution_count": 18,
   "id": "35bbcd15",
   "metadata": {},
   "outputs": [],
   "source": [
    "data['zip_code'] = data['zip_code'].astype('str')"
   ]
  },
  {
   "cell_type": "code",
   "execution_count": 19,
   "id": "ab4fa6d5",
   "metadata": {},
   "outputs": [
    {
     "data": {
      "text/plain": [
       "borough                                    int64\n",
       "neighborhood                              object\n",
       "building_class_category                   object\n",
       "tax_class_at_present                      object\n",
       "block                                      int64\n",
       "lot                                        int64\n",
       "ease-ment                                 object\n",
       "building_class_at_present                 object\n",
       "address                                   object\n",
       "apart_ment_number                         object\n",
       "zip_code                                  object\n",
       "residential_units                          int64\n",
       "commercial_units                           int64\n",
       "total_units                                int64\n",
       "land_square_feet                           int64\n",
       "gross_square_feet                          int64\n",
       "year_built                                 int32\n",
       "tax_class_at_time_of_sale                  int64\n",
       "building_class_at_time_of_sale            object\n",
       "sale_price                                 int64\n",
       "sale_date                         datetime64[ns]\n",
       "dtype: object"
      ]
     },
     "execution_count": 19,
     "metadata": {},
     "output_type": "execute_result"
    }
   ],
   "source": [
    "data.dtypes"
   ]
  },
  {
   "cell_type": "markdown",
   "id": "6372cb81",
   "metadata": {},
   "source": [
    "### Question 7 - Change EAST/WEST to E/W for each address"
   ]
  },
  {
   "cell_type": "code",
   "execution_count": 20,
   "id": "0e6d4e2e",
   "metadata": {},
   "outputs": [],
   "source": [
    "change_east = lambda x: str(x).lower().replace('east', 'e').upper()\n",
    "change_west = lambda x: str(x).lower().replace('west', 'w').upper()"
   ]
  },
  {
   "cell_type": "code",
   "execution_count": 21,
   "id": "b40f82af",
   "metadata": {},
   "outputs": [],
   "source": [
    "data['address'] = data['address'].apply(change_east).apply(change_west)"
   ]
  },
  {
   "cell_type": "markdown",
   "id": "75123a2d",
   "metadata": {},
   "source": [
    "### Question 8 - Change STREET/AVENUE to ST/AVE for each address"
   ]
  },
  {
   "cell_type": "code",
   "execution_count": 22,
   "id": "922c8fc6",
   "metadata": {},
   "outputs": [],
   "source": [
    "change_street = lambda x: str(x).lower().replace('street', 'st').upper()\n",
    "change_avenue = lambda x: str(x).lower().replace('avenue', 'ave').upper()"
   ]
  },
  {
   "cell_type": "code",
   "execution_count": 23,
   "id": "5a680ca2",
   "metadata": {},
   "outputs": [],
   "source": [
    "data['address'] = data['address'].apply(change_street).apply(change_avenue)"
   ]
  },
  {
   "cell_type": "markdown",
   "id": "6f4fc72b",
   "metadata": {},
   "source": [
    "### Question 9 - Plot the following histograms: sale price by counts, sale price > 0, gross sqft where sale price == 0"
   ]
  },
  {
   "cell_type": "code",
   "execution_count": 24,
   "id": "9cbe5fb8",
   "metadata": {},
   "outputs": [
    {
     "data": {
      "text/plain": [
       "<AxesSubplot:>"
      ]
     },
     "execution_count": 24,
     "metadata": {},
     "output_type": "execute_result"
    },
    {
     "data": {
      "image/png": "[encoded data removed]",
      "text/plain": [
       "<Figure size 432x288 with 1 Axes>"
      ]
     },
     "metadata": {
      "needs_background": "light"
     },
     "output_type": "display_data"
    }
   ],
   "source": [
    "data['sale_price'].hist()"
   ]
  },
  {
   "cell_type": "code",
   "execution_count": 25,
   "id": "519e4da2",
   "metadata": {},
   "outputs": [
    {
     "data": {
      "text/plain": [
       "<AxesSubplot:>"
      ]
     },
     "execution_count": 25,
     "metadata": {},
     "output_type": "execute_result"
    },
    {
     "data": {
      "image/png": "[encoded data removed]",
      "text/plain": [
       "<Figure size 432x288 with 1 Axes>"
      ]
     },
     "metadata": {
      "needs_background": "light"
     },
     "output_type": "display_data"
    }
   ],
   "source": [
    "data[data['sale_price'] > 0]['sale_price'].hist()"
   ]
  },
  {
   "cell_type": "code",
   "execution_count": 26,
   "id": "50ec8daf",
   "metadata": {},
   "outputs": [
    {
     "data": {
      "text/plain": [
       "<AxesSubplot:>"
      ]
     },
     "execution_count": 26,
     "metadata": {},
     "output_type": "execute_result"
    },
    {
     "data": {
      "image/png": "[encoded data removed]",
      "text/plain": [
       "<Figure size 432x288 with 1 Axes>"
      ]
     },
     "metadata": {
      "needs_background": "light"
     },
     "output_type": "display_data"
    }
   ],
   "source": [
    "data[data['sale_price'] == 0]['gross_square_feet'].hist()"
   ]
  },
  {
   "cell_type": "markdown",
   "id": "2ecfe0c3",
   "metadata": {},
   "source": [
    "## Working with a subset of the data\n",
    "### Question 10 - Filter the data by family homes"
   ]
  },
  {
   "cell_type": "code",
   "execution_count": 27,
   "id": "34327689",
   "metadata": {},
   "outputs": [],
   "source": [
    "is_family = lambda x: str(x).upper().count('FAMILY') > 0"
   ]
  },
  {
   "cell_type": "code",
   "execution_count": 28,
   "id": "0abde812",
   "metadata": {},
   "outputs": [],
   "source": [
    "family_homes = data[data['building_class_category'].apply(is_family)]"
   ]
  },
  {
   "cell_type": "markdown",
   "id": "c827fcfc",
   "metadata": {},
   "source": [
    "### Create a log scatter plot of “gross sqft” vs “sale price” for family homes"
   ]
  },
  {
   "cell_type": "code",
   "execution_count": 29,
   "id": "5bddac92",
   "metadata": {
    "scrolled": true
   },
   "outputs": [
    {
     "data": {
      "image/png": "[encoded data removed]",
      "text/plain": [
       "<Figure size 432x288 with 1 Axes>"
      ]
     },
     "metadata": {
      "needs_background": "light"
     },
     "output_type": "display_data"
    }
   ],
   "source": [
    "family_plot_1 = family_homes.plot.scatter('gross_square_feet', 'sale_price')\n",
    "family_plot_1.set_yscale('log')\n",
    "family_plot_1.set_xscale('log')"
   ]
  },
  {
   "cell_type": "markdown",
   "id": "06d23d28",
   "metadata": {},
   "source": [
    "### Return a subset of family homes where sale price<100000. How many homes fall in this category?"
   ]
  },
  {
   "cell_type": "code",
   "execution_count": 30,
   "id": "01149718",
   "metadata": {},
   "outputs": [
    {
     "data": {
      "text/plain": [
       "4745"
      ]
     },
     "execution_count": 30,
     "metadata": {},
     "output_type": "execute_result"
    }
   ],
   "source": [
    "cheap_family_homes = family_homes[family_homes['sale_price'] < 100000]\n",
    "cheap_family_homes.shape[0]"
   ]
  },
  {
   "cell_type": "markdown",
   "id": "59600ead",
   "metadata": {},
   "source": [
    "### Return a count of the sale prices (Notice that some homes were sold for 1 dollar, etc. These seem to be outliers)"
   ]
  },
  {
   "cell_type": "code",
   "execution_count": 31,
   "id": "6137539a",
   "metadata": {},
   "outputs": [
    {
     "data": {
      "text/plain": [
       "0        4306\n",
       "1          27\n",
       "10        174\n",
       "100        10\n",
       "500         6\n",
       "         ... \n",
       "92500       1\n",
       "95000       4\n",
       "97500       1\n",
       "98000       1\n",
       "99000       2\n",
       "Name: sale_price, Length: 82, dtype: int64"
      ]
     },
     "execution_count": 31,
     "metadata": {},
     "output_type": "execute_result"
    }
   ],
   "source": [
    "cheap_family_homes['sale_price'].value_counts().sort_index()"
   ]
  },
  {
   "cell_type": "markdown",
   "id": "8207b10f",
   "metadata": {},
   "source": [
    "### Remove outliers of sales with sale price <= 5"
   ]
  },
  {
   "cell_type": "code",
   "execution_count": 32,
   "id": "a2028dbe",
   "metadata": {},
   "outputs": [],
   "source": [
    "no_outliers_cheap = cheap_family_homes[cheap_family_homes['sale_price'] > 5]"
   ]
  },
  {
   "cell_type": "markdown",
   "id": "00cb2b37",
   "metadata": {},
   "source": [
    "### With the outliers removed, create a plot of “gross sqft” vs “sale price”"
   ]
  },
  {
   "cell_type": "code",
   "execution_count": 33,
   "id": "c742df94",
   "metadata": {},
   "outputs": [
    {
     "data": {
      "image/png": "[encoded data removed]",
      "text/plain": [
       "<Figure size 432x288 with 1 Axes>"
      ]
     },
     "metadata": {
      "needs_background": "light"
     },
     "output_type": "display_data"
    }
   ],
   "source": [
    "family_plot_2 = no_outliers_cheap.plot.scatter('gross_square_feet', 'sale_price')"
   ]
  },
  {
   "cell_type": "markdown",
   "id": "f6c4a72f",
   "metadata": {},
   "source": [
    "### Question 16 - Create a plot of the top 10 home sales for family homes"
   ]
  },
  {
   "cell_type": "code",
   "execution_count": 34,
   "id": "1ef28dfe",
   "metadata": {},
   "outputs": [
    {
     "data": {
      "text/plain": [
       "pandas.core.series.Series"
      ]
     },
     "execution_count": 34,
     "metadata": {},
     "output_type": "execute_result"
    }
   ],
   "source": [
    "no_outliers = family_homes[family_homes['sale_price'] > 5]\n",
    "top_10 = no_outliers['sale_price'].value_counts()[:10]\n",
    "type(top_10)"
   ]
  },
  {
   "cell_type": "code",
   "execution_count": 35,
   "id": "4a46d8a4",
   "metadata": {},
   "outputs": [],
   "source": [
    "top_10_df = pd.DataFrame({'price': top_10.index,\n",
    "                          'count': top_10.array})"
   ]
  },
  {
   "cell_type": "code",
   "execution_count": 36,
   "id": "505a4c79",
   "metadata": {},
   "outputs": [
    {
     "data": {
      "image/png": "[encoded data removed]",
      "text/plain": [
       "<Figure size 432x288 with 1 Axes>"
      ]
     },
     "metadata": {
      "needs_background": "light"
     },
     "output_type": "display_data"
    }
   ],
   "source": [
    "top_10_df.plot(x='count',y='price',kind='bar', xlabel=\"Number of Houses @ Price Point\", ylabel=\"Price Point\", legend=False, title=\"Most Common House Prices\");"
   ]
  }
 ],
 "metadata": {
  "kernelspec": {
   "display_name": "Python 3 (ipykernel)",
   "language": "python",
   "name": "python3"
  },
  "language_info": {
   "codemirror_mode": {
    "name": "ipython",
    "version": 3
   },
   "file_extension": ".py",
   "mimetype": "text/x-python",
   "name": "python",
   "nbconvert_exporter": "python",
   "pygments_lexer": "ipython3",
   "version": "3.9.12"
  }
 },
 "nbformat": 4,
 "nbformat_minor": 5
}
